{
  "cells": [
    {
      "cell_type": "markdown",
      "metadata": {
        "colab_type": "text",
        "id": "view-in-github"
      },
      "source": [
        "<a href=\"https://colab.research.google.com/github/freddy-7/TI3002C/blob/main/2_Valores_Nulos.ipynb\" target=\"_parent\"><img src=\"https://colab.research.google.com/assets/colab-badge.svg\" alt=\"Open In Colab\"/></a>"
      ]
    },
    {
      "cell_type": "code",
      "execution_count": 15,
      "metadata": {
        "id": "nVmUdMye-2LC"
      },
      "outputs": [],
      "source": [
        "#Importamos las librerias pandas, numpy y matplotlib respectivamente\n",
        "import pandas as pd\n",
        "import numpy as np\n",
        "import matplotlib.pyplot as plt"
      ]
    },
    {
      "cell_type": "markdown",
      "metadata": {
        "id": "ppkIN7YD9OCO"
      },
      "source": [
        "**VALORES NULOS**"
      ]
    },
    {
      "cell_type": "code",
      "execution_count": null,
      "metadata": {
        "id": "SJqO09PDA0lS"
      },
      "outputs": [],
      "source": [
        "#Cargar archivo csv desde COLAB\n",
        "from google.colab import files\n",
        "files.upload()"
      ]
    },
    {
      "cell_type": "code",
      "execution_count": null,
      "metadata": {
        "id": "ju4zTK1qA7Zb"
      },
      "outputs": [],
      "source": [
        "#Carga desde un archivo .csv sin indice\n",
        "data = pd.read_csv('inmuebles2.csv')\n",
        "data.head(5)"
      ]
    },
    {
      "cell_type": "code",
      "execution_count": null,
      "metadata": {
        "id": "X10o4y31A_pn"
      },
      "outputs": [],
      "source": [
        "#Eliminar primera fila o filas innecesarias\n",
        "data1= pd.read_csv('inmuebles2.csv', skiprows=1)\n",
        "data1"
      ]
    },
    {
      "cell_type": "code",
      "execution_count": null,
      "metadata": {
        "id": "R6VgHZUJBEWf"
      },
      "outputs": [],
      "source": [
        "#Eliminar columnas innecesarias\n",
        "#axis = 1 para columnas\n",
        "#axis = 0 para filas\n",
        "data2= data1.drop(['0','Referencia'], axis=1)\n",
        "data2"
      ]
    },
    {
      "cell_type": "code",
      "execution_count": null,
      "metadata": {
        "id": "0-dWeOUHBIkq"
      },
      "outputs": [],
      "source": [
        "#Identificar valores nulos por columna\n",
        "valores_nulos=data2.isnull().sum()\n",
        "valores_nulos"
      ]
    },
    {
      "cell_type": "code",
      "execution_count": 29,
      "metadata": {
        "id": "CY6wFkDvYtrD"
      },
      "outputs": [
        {
          "data": {
            "text/plain": [
              "42"
            ]
          },
          "execution_count": 29,
          "metadata": {},
          "output_type": "execute_result"
        }
      ],
      "source": [
        "#Identificar valores nulos por dataframe\n",
        "valores_nulos=data2.isnull().sum().sum()\n",
        "valores_nulos"
      ]
    },
    {
      "cell_type": "markdown",
      "metadata": {
        "id": "XncKYOfkBl1y"
      },
      "source": [
        "**Métodos de Sustitución de Valores Nulos**"
      ]
    },
    {
      "cell_type": "code",
      "execution_count": null,
      "metadata": {
        "id": "zMJieQa6Bntp"
      },
      "outputs": [],
      "source": [
        "#Realizamos una copia del dataframe\n",
        "data3=data2.copy()"
      ]
    },
    {
      "cell_type": "code",
      "execution_count": null,
      "metadata": {
        "id": "sabbsa7jBp_8"
      },
      "outputs": [],
      "source": [
        "#Primer método de sustitución de valores nulos\n",
        "#Sustituir valores nulos con promedio o media\n",
        "data3[\"Superficie\"]=data3[\"Superficie\"].fillna(round(data2[\"Superficie\"].mean(),1))"
      ]
    },
    {
      "cell_type": "code",
      "execution_count": null,
      "metadata": {
        "id": "ABDcOFMCByzN"
      },
      "outputs": [],
      "source": [
        "#Corroboramos valores nulos\n",
        "valores_nulos=data3.isnull().sum()\n",
        "valores_nulos"
      ]
    },
    {
      "cell_type": "code",
      "execution_count": null,
      "metadata": {
        "id": "LOyclP5_CHOI"
      },
      "outputs": [],
      "source": [
        "#Segundo método de sustitución de valores nulos\n",
        "#Sustituir valores nulos con mediana\n",
        "data3[\"Precio Venta\"]=data3[\"Precio Venta\"].fillna(round(data2[\"Precio Venta\"].median(),1))\n",
        "data3"
      ]
    },
    {
      "cell_type": "code",
      "execution_count": null,
      "metadata": {
        "id": "THpDQu3bCJuG"
      },
      "outputs": [],
      "source": [
        "#Corroboramos valores nulos\n",
        "valores_nulos=data3.isnull().sum()\n",
        "valores_nulos"
      ]
    },
    {
      "cell_type": "code",
      "execution_count": null,
      "metadata": {
        "id": "uQh5A6NeCP_f"
      },
      "outputs": [],
      "source": [
        "#Tercer método de sustitución de valores nulos\n",
        "#Sustituir valores nulos por un valor numérico en  concreto \n",
        "data3[\"Fecha Alta\"]= data3[\"Fecha Alta\"].fillna(10) \n",
        "data3"
      ]
    },
    {
      "cell_type": "code",
      "execution_count": null,
      "metadata": {
        "id": "dTndvZp0CUfp"
      },
      "outputs": [],
      "source": [
        "#Corroboramos valores nulos\n",
        "valores_nulos=data3.isnull().sum()\n",
        "valores_nulos"
      ]
    },
    {
      "cell_type": "code",
      "execution_count": null,
      "metadata": {
        "id": "33kIKvcYRdpd"
      },
      "outputs": [],
      "source": [
        "#Cuarto método de sustitución de valores nulos\n",
        "#Sustituir valores nulos por un string en  concreto \n",
        "data3[\"Fecha Venta\"] =data3[\"Fecha Venta\"].fillna(\"2030-06-19 00:00:00\") "
      ]
    },
    {
      "cell_type": "code",
      "execution_count": null,
      "metadata": {
        "id": "kXf-TVUiRhUV"
      },
      "outputs": [],
      "source": [
        "#Corroboramos valores nulos\n",
        "valores_nulos=data3.isnull().sum()\n",
        "valores_nulos"
      ]
    },
    {
      "cell_type": "code",
      "execution_count": null,
      "metadata": {
        "id": "bfA8VF0RRixF"
      },
      "outputs": [],
      "source": [
        "#Quinto método de sustitución de valores nulos\n",
        "#Sustituir valores nulos por valores no nulos hacia adelante  \"forward fill\" (\"ffill\")\n",
        "#Filtro por columnas\n",
        "data3[\"Tipo\"] =data3[\"Tipo\"].fillna(method=\"ffill\") "
      ]
    },
    {
      "cell_type": "code",
      "execution_count": null,
      "metadata": {
        "id": "8FAFBdSZRk30"
      },
      "outputs": [],
      "source": [
        "#Corroboramos valores nulos\n",
        "valores_nulos=data3.isnull().sum()\n",
        "valores_nulos"
      ]
    },
    {
      "cell_type": "code",
      "execution_count": null,
      "metadata": {
        "id": "j7WxGmhyRpsp"
      },
      "outputs": [],
      "source": [
        "#Sexto método de sustitución de valores nulos\n",
        "#Sustituir valores nulos por valores no nulos hacia atrás backward fill\" (\"bfill\")\n",
        "#Filtro por columnas\n",
        "data3[\"Operación\"] =data3[\"Operación\"].fillna(method=\"bfill\") "
      ]
    },
    {
      "cell_type": "code",
      "execution_count": null,
      "metadata": {
        "id": "V0uExR9DSGw7"
      },
      "outputs": [],
      "source": [
        "#Corroboramos valores nulos\n",
        "valores_nulos=data3.isnull().sum()\n",
        "valores_nulos"
      ]
    },
    {
      "cell_type": "code",
      "execution_count": null,
      "metadata": {
        "id": "8PIaeNzySMUu"
      },
      "outputs": [],
      "source": [
        "#Sustituir valores nulos por valores no nulos hacia atrás backward fill\" (\"bfill\")\n",
        "data3[\"Provincia\"] =data3[\"Provincia\"].fillna(method=\"bfill\") "
      ]
    },
    {
      "cell_type": "code",
      "execution_count": null,
      "metadata": {
        "id": "bgsLUv4nSOlu"
      },
      "outputs": [],
      "source": [
        "#Corroboramos valores nulos\n",
        "valores_nulos=data3.isnull().sum()\n",
        "valores_nulos"
      ]
    },
    {
      "cell_type": "code",
      "execution_count": null,
      "metadata": {
        "id": "trJXIQb6SQhS"
      },
      "outputs": [],
      "source": [
        "#Sustituir valores nulos por valores no nulos hacia adelante forward fill\" (\"ffill\")\n",
        "#Filtro por columnas\n",
        "data3[\"Vendedor\"] =data3[\"Vendedor\"].fillna(method=\"ffill\") "
      ]
    },
    {
      "cell_type": "code",
      "execution_count": null,
      "metadata": {
        "id": "vVHUi50TSSC4"
      },
      "outputs": [],
      "source": [
        "#Corroboramos valores nulos\n",
        "valores_nulos=data3.isnull().sum()\n",
        "valores_nulos"
      ]
    },
    {
      "cell_type": "code",
      "execution_count": null,
      "metadata": {
        "colab": {
          "base_uri": "https://localhost:8080/"
        },
        "id": "cc0Fkd0pSUx2",
        "outputId": "38dcc567-60bf-4959-9baa-71163021eff2"
      },
      "outputs": [],
      "source": [
        "#Corroboramos valores nulos en todo el dataframe\n",
        "valores_nulos=data3.isnull().sum().sum()\n",
        "valores_nulos"
      ]
    },
    {
      "cell_type": "markdown",
      "metadata": {
        "id": "tCVIsa43Sa6H"
      },
      "source": [
        "**Método de Eliminación de valores nulos**"
      ]
    },
    {
      "cell_type": "code",
      "execution_count": null,
      "metadata": {
        "id": "be7xUcTLSbyO"
      },
      "outputs": [],
      "source": [
        "#Identificar valores nulos por columna\n",
        "valores_nulos=data2.isnull().sum()\n",
        "valores_nulos"
      ]
    },
    {
      "cell_type": "code",
      "execution_count": null,
      "metadata": {
        "id": "Okb0eRLHSezZ"
      },
      "outputs": [],
      "source": [
        "#Realizamos una copia del dataframe\n",
        "data4=data2.copy()\n",
        "data4"
      ]
    },
    {
      "cell_type": "code",
      "execution_count": 24,
      "metadata": {
        "id": "qcfpheQTSgeJ"
      },
      "outputs": [
        {
          "data": {
            "text/html": [
              "<div>\n",
              "<style scoped>\n",
              "    .dataframe tbody tr th:only-of-type {\n",
              "        vertical-align: middle;\n",
              "    }\n",
              "\n",
              "    .dataframe tbody tr th {\n",
              "        vertical-align: top;\n",
              "    }\n",
              "\n",
              "    .dataframe thead th {\n",
              "        text-align: right;\n",
              "    }\n",
              "</style>\n",
              "<table border=\"1\" class=\"dataframe\">\n",
              "  <thead>\n",
              "    <tr style=\"text-align: right;\">\n",
              "      <th></th>\n",
              "      <th>Fecha Alta</th>\n",
              "      <th>Tipo</th>\n",
              "      <th>Operación</th>\n",
              "      <th>Provincia</th>\n",
              "      <th>Superficie</th>\n",
              "      <th>Precio Venta</th>\n",
              "      <th>Fecha Venta</th>\n",
              "      <th>Vendedor</th>\n",
              "    </tr>\n",
              "  </thead>\n",
              "  <tbody>\n",
              "    <tr>\n",
              "      <th>0</th>\n",
              "      <td>2004-01-01 00:00:00</td>\n",
              "      <td>Parking</td>\n",
              "      <td>Alquiler</td>\n",
              "      <td>Lleida</td>\n",
              "      <td>291.0</td>\n",
              "      <td>2133903.0</td>\n",
              "      <td>2004-06-19 00:00:00</td>\n",
              "      <td>Carmen</td>\n",
              "    </tr>\n",
              "    <tr>\n",
              "      <th>1</th>\n",
              "      <td>2004-01-01 00:00:00</td>\n",
              "      <td>Local</td>\n",
              "      <td>Venta</td>\n",
              "      <td>Girona</td>\n",
              "      <td>185.0</td>\n",
              "      <td>1945424.0</td>\n",
              "      <td>2004-04-19 00:00:00</td>\n",
              "      <td>Pedro</td>\n",
              "    </tr>\n",
              "    <tr>\n",
              "      <th>4</th>\n",
              "      <td>2004-01-02 00:00:00</td>\n",
              "      <td>Suelo</td>\n",
              "      <td>Venta</td>\n",
              "      <td>Tarragona</td>\n",
              "      <td>152.0</td>\n",
              "      <td>185000.0</td>\n",
              "      <td>2004-07-10 00:00:00</td>\n",
              "      <td>María</td>\n",
              "    </tr>\n",
              "    <tr>\n",
              "      <th>5</th>\n",
              "      <td>2004-01-03 00:00:00</td>\n",
              "      <td>Industrial</td>\n",
              "      <td>Alquiler</td>\n",
              "      <td>Girona</td>\n",
              "      <td>131.0</td>\n",
              "      <td>953156.0</td>\n",
              "      <td>2004-09-05 00:00:00</td>\n",
              "      <td>Pedro</td>\n",
              "    </tr>\n",
              "    <tr>\n",
              "      <th>7</th>\n",
              "      <td>2004-01-03 00:00:00</td>\n",
              "      <td>Oficina</td>\n",
              "      <td>Venta</td>\n",
              "      <td>Girona</td>\n",
              "      <td>235.0</td>\n",
              "      <td>2158475.0</td>\n",
              "      <td>2004-10-31 00:00:00</td>\n",
              "      <td>Jesús</td>\n",
              "    </tr>\n",
              "    <tr>\n",
              "      <th>...</th>\n",
              "      <td>...</td>\n",
              "      <td>...</td>\n",
              "      <td>...</td>\n",
              "      <td>...</td>\n",
              "      <td>...</td>\n",
              "      <td>...</td>\n",
              "      <td>...</td>\n",
              "      <td>...</td>\n",
              "    </tr>\n",
              "    <tr>\n",
              "      <th>3016</th>\n",
              "      <td>2006-12-30 00:00:00</td>\n",
              "      <td>Casa</td>\n",
              "      <td>Alquiler</td>\n",
              "      <td>Barcelona</td>\n",
              "      <td>264.0</td>\n",
              "      <td>1060488.0</td>\n",
              "      <td>2007-04-28 00:00:00</td>\n",
              "      <td>Joaquín</td>\n",
              "    </tr>\n",
              "    <tr>\n",
              "      <th>3017</th>\n",
              "      <td>2006-12-31 00:00:00</td>\n",
              "      <td>Oficina</td>\n",
              "      <td>Venta</td>\n",
              "      <td>Lleida</td>\n",
              "      <td>69.0</td>\n",
              "      <td>483828.0</td>\n",
              "      <td>2007-05-05 00:00:00</td>\n",
              "      <td>Pedro</td>\n",
              "    </tr>\n",
              "    <tr>\n",
              "      <th>3030</th>\n",
              "      <td>2007-01-07 00:00:00</td>\n",
              "      <td>Industrial</td>\n",
              "      <td>Alquiler</td>\n",
              "      <td>Lleida</td>\n",
              "      <td>196.0</td>\n",
              "      <td>904344.0</td>\n",
              "      <td>2007-04-20 00:00:00</td>\n",
              "      <td>Pedro</td>\n",
              "    </tr>\n",
              "    <tr>\n",
              "      <th>3042</th>\n",
              "      <td>2007-01-09 00:00:00</td>\n",
              "      <td>Local</td>\n",
              "      <td>Venta</td>\n",
              "      <td>Lleida</td>\n",
              "      <td>92.0</td>\n",
              "      <td>709596.0</td>\n",
              "      <td>2007-04-17 00:00:00</td>\n",
              "      <td>Carmen</td>\n",
              "    </tr>\n",
              "    <tr>\n",
              "      <th>3045</th>\n",
              "      <td>2007-01-10 00:00:00</td>\n",
              "      <td>Parking</td>\n",
              "      <td>Venta</td>\n",
              "      <td>Barcelona</td>\n",
              "      <td>233.0</td>\n",
              "      <td>1077858.0</td>\n",
              "      <td>2007-04-30 00:00:00</td>\n",
              "      <td>María</td>\n",
              "    </tr>\n",
              "  </tbody>\n",
              "</table>\n",
              "<p>2747 rows × 8 columns</p>\n",
              "</div>"
            ],
            "text/plain": [
              "               Fecha Alta        Tipo Operación  Provincia  Superficie  \\\n",
              "0     2004-01-01 00:00:00     Parking  Alquiler     Lleida       291.0   \n",
              "1     2004-01-01 00:00:00       Local     Venta     Girona       185.0   \n",
              "4     2004-01-02 00:00:00       Suelo     Venta  Tarragona       152.0   \n",
              "5     2004-01-03 00:00:00  Industrial  Alquiler     Girona       131.0   \n",
              "7     2004-01-03 00:00:00     Oficina     Venta     Girona       235.0   \n",
              "...                   ...         ...       ...        ...         ...   \n",
              "3016  2006-12-30 00:00:00        Casa  Alquiler  Barcelona       264.0   \n",
              "3017  2006-12-31 00:00:00     Oficina     Venta     Lleida        69.0   \n",
              "3030  2007-01-07 00:00:00  Industrial  Alquiler     Lleida       196.0   \n",
              "3042  2007-01-09 00:00:00       Local     Venta     Lleida        92.0   \n",
              "3045  2007-01-10 00:00:00     Parking     Venta  Barcelona       233.0   \n",
              "\n",
              "      Precio Venta          Fecha Venta Vendedor  \n",
              "0        2133903.0  2004-06-19 00:00:00   Carmen  \n",
              "1        1945424.0  2004-04-19 00:00:00    Pedro  \n",
              "4         185000.0  2004-07-10 00:00:00    María  \n",
              "5         953156.0  2004-09-05 00:00:00    Pedro  \n",
              "7        2158475.0  2004-10-31 00:00:00    Jesús  \n",
              "...            ...                  ...      ...  \n",
              "3016     1060488.0  2007-04-28 00:00:00  Joaquín  \n",
              "3017      483828.0  2007-05-05 00:00:00    Pedro  \n",
              "3030      904344.0  2007-04-20 00:00:00    Pedro  \n",
              "3042      709596.0  2007-04-17 00:00:00   Carmen  \n",
              "3045     1077858.0  2007-04-30 00:00:00    María  \n",
              "\n",
              "[2747 rows x 8 columns]"
            ]
          },
          "execution_count": 24,
          "metadata": {},
          "output_type": "execute_result"
        }
      ],
      "source": [
        "#Eliminamos filas con nulos\n",
        "#No se agrega nada para eliminar filas y 1 para eliminar columnas\n",
        "data4= data2.dropna()\n",
        "data4"
      ]
    },
    {
      "cell_type": "code",
      "execution_count": null,
      "metadata": {
        "id": "9_X658RUSqyZ"
      },
      "outputs": [],
      "source": [
        "#Identificar valores nulos por columna\n",
        "valores_nulos=data4.isnull().sum()\n",
        "valores_nulos"
      ]
    },
    {
      "cell_type": "markdown",
      "metadata": {
        "id": "eE_KwtvDSvi0"
      },
      "source": [
        "**Comparamos DataFrame3(Sustitución) y Dataframe4(Eliminación)**"
      ]
    },
    {
      "cell_type": "code",
      "execution_count": null,
      "metadata": {
        "id": "VgWmvhieSwUr"
      },
      "outputs": [],
      "source": [
        "data3.info()"
      ]
    },
    {
      "cell_type": "code",
      "execution_count": 27,
      "metadata": {
        "id": "xflAytJwSx8H"
      },
      "outputs": [
        {
          "name": "stdout",
          "output_type": "stream",
          "text": [
            "<class 'pandas.core.frame.DataFrame'>\n",
            "Index: 2747 entries, 0 to 3045\n",
            "Data columns (total 8 columns):\n",
            " #   Column        Non-Null Count  Dtype  \n",
            "---  ------        --------------  -----  \n",
            " 0   Fecha Alta    2747 non-null   object \n",
            " 1   Tipo          2747 non-null   object \n",
            " 2   Operación     2747 non-null   object \n",
            " 3   Provincia     2747 non-null   object \n",
            " 4   Superficie    2747 non-null   float64\n",
            " 5   Precio Venta  2747 non-null   float64\n",
            " 6   Fecha Venta   2747 non-null   object \n",
            " 7   Vendedor      2747 non-null   object \n",
            "dtypes: float64(2), object(6)\n",
            "memory usage: 193.1+ KB\n"
          ]
        }
      ],
      "source": [
        "data4.info()"
      ]
    },
    {
      "cell_type": "markdown",
      "metadata": {
        "id": "9PHnleetS3qA"
      },
      "source": [
        "**Convertir DataSet sin valores nulos a CSV**"
      ]
    },
    {
      "cell_type": "code",
      "execution_count": null,
      "metadata": {
        "id": "aRLKT_8TS5__"
      },
      "outputs": [],
      "source": [
        "#Convertir DataFrame a CSV\n",
        "data3.to_csv(\"inmuebles_sin_nulos.csv\")"
      ]
    },
    {
      "cell_type": "code",
      "execution_count": null,
      "metadata": {
        "id": "3vDbAM6OTAuv"
      },
      "outputs": [],
      "source": [
        "#descargar archivo filtrado en csv\n",
        "from google.colab import files \n",
        "  \n",
        "  \n",
        "files.download(\"inmuebles_sin_nulos.csv\")"
      ]
    }
  ],
  "metadata": {
    "colab": {
      "authorship_tag": "ABX9TyOp2JCHo4Vm4sW6su3j+TGS",
      "include_colab_link": true,
      "provenance": []
    },
    "kernelspec": {
      "display_name": "Python 3",
      "name": "python3"
    },
    "language_info": {
      "codemirror_mode": {
        "name": "ipython",
        "version": 3
      },
      "file_extension": ".py",
      "mimetype": "text/x-python",
      "name": "python",
      "nbconvert_exporter": "python",
      "pygments_lexer": "ipython3",
      "version": "3.11.1"
    }
  },
  "nbformat": 4,
  "nbformat_minor": 0
}

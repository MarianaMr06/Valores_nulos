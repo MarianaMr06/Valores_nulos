{
  "nbformat": 4,
  "nbformat_minor": 0,
  "metadata": {
    "colab": {
      "provenance": [],
      "toc_visible": true,
      "authorship_tag": "ABX9TyPh9f3HuhOVaXlF7Mmvszdh",
      "include_colab_link": true
    },
    "kernelspec": {
      "name": "python3",
      "display_name": "Python 3"
    },
    "language_info": {
      "name": "python"
    }
  },
  "cells": [
    {
      "cell_type": "markdown",
      "metadata": {
        "id": "view-in-github",
        "colab_type": "text"
      },
      "source": [
        "<a href=\"https://colab.research.google.com/github/MarianaMr06/Valores_nulos/blob/main/Actividad_3_2.ipynb\" target=\"_parent\"><img src=\"https://colab.research.google.com/assets/colab-badge.svg\" alt=\"Open In Colab\"/></a>"
      ]
    },
    {
      "cell_type": "markdown",
      "source": [
        "# Actividad 3.2"
      ],
      "metadata": {
        "id": "wa1wdD6lqIMu"
      }
    },
    {
      "cell_type": "code",
      "source": [
        "#Carga de librerías\n",
        "import pandas as pd\n",
        "import numpy as np\n",
        "import matplotlib.pyplot as plt\n",
        "\n",
        "#Utilizar el nuevo repositorio con el nombre: Valores Nulos\n",
        "#Agregar los archivos: Datos de Facturación.xlsx, Detalle precios y productos fabricados 2022.xslx y Gastos y costos 20-23.xslx\n",
        "#Aplicar métodos para reemplazar valores nulos en cada columna de cada dataset\n",
        "#Crear el archivo en Google Colab, respaldarlo en GitHub.\n",
        "#Por cada columna describir cuales fueron las técnicas de tratamiento de valores nulos utilizadas para cada variable y agregar un archivo .csv final por cada dataset.\n",
        "#Subir el link del repositorio en CANVAS para “Evaluación”"
      ],
      "metadata": {
        "id": "UtmbNwmsqO9b"
      },
      "execution_count": 2,
      "outputs": []
    },
    {
      "cell_type": "markdown",
      "source": [
        "Carga y visualización de archivos"
      ],
      "metadata": {
        "id": "RaiJNSjVqcTc"
      }
    },
    {
      "cell_type": "code",
      "source": [
        "\n",
        "from google.colab import files\n",
        "files.upload()"
      ],
      "metadata": {
        "id": "sv8oNTOwqfF8"
      },
      "execution_count": null,
      "outputs": []
    },
    {
      "cell_type": "code",
      "source": [
        "facturacion = pd.read_excel(\"Datos de Facturación.xlsx\")\n"
      ],
      "metadata": {
        "id": "406zzyAUsA8h"
      },
      "execution_count": 15,
      "outputs": []
    },
    {
      "cell_type": "code",
      "source": [
        "from google.colab import files\n",
        "files.upload()"
      ],
      "metadata": {
        "id": "7W3I4tZ2r-j8"
      },
      "execution_count": null,
      "outputs": []
    },
    {
      "cell_type": "code",
      "source": [
        "detalle = pd.read_excel(\"Detalle precios y productos fabricados 2022.xlsx\")"
      ],
      "metadata": {
        "id": "VWFasKPcsB0_"
      },
      "execution_count": 84,
      "outputs": []
    },
    {
      "cell_type": "markdown",
      "source": [
        "## Datos de Facturación"
      ],
      "metadata": {
        "id": "iXGefgE1tipK"
      }
    },
    {
      "cell_type": "markdown",
      "source": [
        "Visualización"
      ],
      "metadata": {
        "id": "IRWhmee1ttFj"
      }
    },
    {
      "cell_type": "code",
      "source": [
        "facturacion"
      ],
      "metadata": {
        "colab": {
          "base_uri": "https://localhost:8080/",
          "height": 597
        },
        "id": "jmMjXnzltm5i",
        "outputId": "205eed50-da47-45ad-b6d9-910c74fd336e"
      },
      "execution_count": 25,
      "outputs": [
        {
          "output_type": "execute_result",
          "data": {
            "text/plain": [
              "      CVE_DOC    CVE_CLPV STATUS  CVE_VEND               FECHAELAB  FECHA_DOC  \\\n",
              "0      F29414        2465      C       1.0 2019-09-03 08:58:42.000 2019-09-03   \n",
              "1      F29415        3926      C       1.0 2019-09-03 09:55:14.000 2019-09-03   \n",
              "2      F29416        3926      C       1.0 2019-09-03 13:25:33.000 2019-09-03   \n",
              "3      F29417        3926      C       1.0 2019-09-03 13:33:23.000 2019-09-03   \n",
              "4      F29418        6813      C       2.0 2019-09-03 14:23:45.000 2019-09-03   \n",
              "...       ...         ...    ...       ...                     ...        ...   \n",
              "10890  F40306        8842      E       2.0 2023-03-06 16:09:39.013 2023-03-06   \n",
              "10891  F40307        6218    NaN       2.0 2023-03-06 16:38:42.933 2023-03-06   \n",
              "10892     NaN        5926      E       2.0 2023-03-06 17:02:33.390 2023-03-06   \n",
              "10893  F40309         361      E       2.0 2023-03-07 12:43:49.567 2023-03-07   \n",
              "10894  F40310        3011      E       2.0 2023-03-07 12:45:58.407 2023-03-07   \n",
              "\n",
              "                 FECHA_ENT  FECHA_VEN FECHA_CANCELA  CAN_TOT  DES_TOT  DES_FIN  \n",
              "0      2019-09-03 00:00:00 2019-09-18    2019-09-04  3980.00      0.0      0.0  \n",
              "1      2019-09-03 00:00:00 2019-10-03    2019-09-03  1550.00      0.0      0.0  \n",
              "2      2019-09-03 00:00:00 2019-10-03    2019-09-03  1550.00      0.0      0.0  \n",
              "3      2019-09-03 00:00:00 2019-10-03    2019-09-17  1550.00      0.0      0.0  \n",
              "4      2019-09-03 00:00:00 2019-09-03    2019-09-10  2435.44      0.0      0.0  \n",
              "...                    ...        ...           ...      ...      ...      ...  \n",
              "10890  2023-03-01 00:00:00 2023-03-06           NaT  3272.00      0.0      0.0  \n",
              "10891  2023-03-06 00:00:00 2023-03-06           NaT   504.15      0.0      0.0  \n",
              "10892  2023-03-06 00:00:00 2023-03-06           NaT   275.68      0.0      0.0  \n",
              "10893  2023-03-07 00:00:00 2023-03-07           NaT   129.30      0.0      0.0  \n",
              "10894  2023-03-01 00:00:00 2023-03-07           NaT   517.20      0.0      0.0  \n",
              "\n",
              "[10895 rows x 12 columns]"
            ],
            "text/html": [
              "\n",
              "  <div id=\"df-e08838bf-d07e-4997-864b-6bee380fc903\" class=\"colab-df-container\">\n",
              "    <div>\n",
              "<style scoped>\n",
              "    .dataframe tbody tr th:only-of-type {\n",
              "        vertical-align: middle;\n",
              "    }\n",
              "\n",
              "    .dataframe tbody tr th {\n",
              "        vertical-align: top;\n",
              "    }\n",
              "\n",
              "    .dataframe thead th {\n",
              "        text-align: right;\n",
              "    }\n",
              "</style>\n",
              "<table border=\"1\" class=\"dataframe\">\n",
              "  <thead>\n",
              "    <tr style=\"text-align: right;\">\n",
              "      <th></th>\n",
              "      <th>CVE_DOC</th>\n",
              "      <th>CVE_CLPV</th>\n",
              "      <th>STATUS</th>\n",
              "      <th>CVE_VEND</th>\n",
              "      <th>FECHAELAB</th>\n",
              "      <th>FECHA_DOC</th>\n",
              "      <th>FECHA_ENT</th>\n",
              "      <th>FECHA_VEN</th>\n",
              "      <th>FECHA_CANCELA</th>\n",
              "      <th>CAN_TOT</th>\n",
              "      <th>DES_TOT</th>\n",
              "      <th>DES_FIN</th>\n",
              "    </tr>\n",
              "  </thead>\n",
              "  <tbody>\n",
              "    <tr>\n",
              "      <th>0</th>\n",
              "      <td>F29414</td>\n",
              "      <td>2465</td>\n",
              "      <td>C</td>\n",
              "      <td>1.0</td>\n",
              "      <td>2019-09-03 08:58:42.000</td>\n",
              "      <td>2019-09-03</td>\n",
              "      <td>2019-09-03 00:00:00</td>\n",
              "      <td>2019-09-18</td>\n",
              "      <td>2019-09-04</td>\n",
              "      <td>3980.00</td>\n",
              "      <td>0.0</td>\n",
              "      <td>0.0</td>\n",
              "    </tr>\n",
              "    <tr>\n",
              "      <th>1</th>\n",
              "      <td>F29415</td>\n",
              "      <td>3926</td>\n",
              "      <td>C</td>\n",
              "      <td>1.0</td>\n",
              "      <td>2019-09-03 09:55:14.000</td>\n",
              "      <td>2019-09-03</td>\n",
              "      <td>2019-09-03 00:00:00</td>\n",
              "      <td>2019-10-03</td>\n",
              "      <td>2019-09-03</td>\n",
              "      <td>1550.00</td>\n",
              "      <td>0.0</td>\n",
              "      <td>0.0</td>\n",
              "    </tr>\n",
              "    <tr>\n",
              "      <th>2</th>\n",
              "      <td>F29416</td>\n",
              "      <td>3926</td>\n",
              "      <td>C</td>\n",
              "      <td>1.0</td>\n",
              "      <td>2019-09-03 13:25:33.000</td>\n",
              "      <td>2019-09-03</td>\n",
              "      <td>2019-09-03 00:00:00</td>\n",
              "      <td>2019-10-03</td>\n",
              "      <td>2019-09-03</td>\n",
              "      <td>1550.00</td>\n",
              "      <td>0.0</td>\n",
              "      <td>0.0</td>\n",
              "    </tr>\n",
              "    <tr>\n",
              "      <th>3</th>\n",
              "      <td>F29417</td>\n",
              "      <td>3926</td>\n",
              "      <td>C</td>\n",
              "      <td>1.0</td>\n",
              "      <td>2019-09-03 13:33:23.000</td>\n",
              "      <td>2019-09-03</td>\n",
              "      <td>2019-09-03 00:00:00</td>\n",
              "      <td>2019-10-03</td>\n",
              "      <td>2019-09-17</td>\n",
              "      <td>1550.00</td>\n",
              "      <td>0.0</td>\n",
              "      <td>0.0</td>\n",
              "    </tr>\n",
              "    <tr>\n",
              "      <th>4</th>\n",
              "      <td>F29418</td>\n",
              "      <td>6813</td>\n",
              "      <td>C</td>\n",
              "      <td>2.0</td>\n",
              "      <td>2019-09-03 14:23:45.000</td>\n",
              "      <td>2019-09-03</td>\n",
              "      <td>2019-09-03 00:00:00</td>\n",
              "      <td>2019-09-03</td>\n",
              "      <td>2019-09-10</td>\n",
              "      <td>2435.44</td>\n",
              "      <td>0.0</td>\n",
              "      <td>0.0</td>\n",
              "    </tr>\n",
              "    <tr>\n",
              "      <th>...</th>\n",
              "      <td>...</td>\n",
              "      <td>...</td>\n",
              "      <td>...</td>\n",
              "      <td>...</td>\n",
              "      <td>...</td>\n",
              "      <td>...</td>\n",
              "      <td>...</td>\n",
              "      <td>...</td>\n",
              "      <td>...</td>\n",
              "      <td>...</td>\n",
              "      <td>...</td>\n",
              "      <td>...</td>\n",
              "    </tr>\n",
              "    <tr>\n",
              "      <th>10890</th>\n",
              "      <td>F40306</td>\n",
              "      <td>8842</td>\n",
              "      <td>E</td>\n",
              "      <td>2.0</td>\n",
              "      <td>2023-03-06 16:09:39.013</td>\n",
              "      <td>2023-03-06</td>\n",
              "      <td>2023-03-01 00:00:00</td>\n",
              "      <td>2023-03-06</td>\n",
              "      <td>NaT</td>\n",
              "      <td>3272.00</td>\n",
              "      <td>0.0</td>\n",
              "      <td>0.0</td>\n",
              "    </tr>\n",
              "    <tr>\n",
              "      <th>10891</th>\n",
              "      <td>F40307</td>\n",
              "      <td>6218</td>\n",
              "      <td>NaN</td>\n",
              "      <td>2.0</td>\n",
              "      <td>2023-03-06 16:38:42.933</td>\n",
              "      <td>2023-03-06</td>\n",
              "      <td>2023-03-06 00:00:00</td>\n",
              "      <td>2023-03-06</td>\n",
              "      <td>NaT</td>\n",
              "      <td>504.15</td>\n",
              "      <td>0.0</td>\n",
              "      <td>0.0</td>\n",
              "    </tr>\n",
              "    <tr>\n",
              "      <th>10892</th>\n",
              "      <td>NaN</td>\n",
              "      <td>5926</td>\n",
              "      <td>E</td>\n",
              "      <td>2.0</td>\n",
              "      <td>2023-03-06 17:02:33.390</td>\n",
              "      <td>2023-03-06</td>\n",
              "      <td>2023-03-06 00:00:00</td>\n",
              "      <td>2023-03-06</td>\n",
              "      <td>NaT</td>\n",
              "      <td>275.68</td>\n",
              "      <td>0.0</td>\n",
              "      <td>0.0</td>\n",
              "    </tr>\n",
              "    <tr>\n",
              "      <th>10893</th>\n",
              "      <td>F40309</td>\n",
              "      <td>361</td>\n",
              "      <td>E</td>\n",
              "      <td>2.0</td>\n",
              "      <td>2023-03-07 12:43:49.567</td>\n",
              "      <td>2023-03-07</td>\n",
              "      <td>2023-03-07 00:00:00</td>\n",
              "      <td>2023-03-07</td>\n",
              "      <td>NaT</td>\n",
              "      <td>129.30</td>\n",
              "      <td>0.0</td>\n",
              "      <td>0.0</td>\n",
              "    </tr>\n",
              "    <tr>\n",
              "      <th>10894</th>\n",
              "      <td>F40310</td>\n",
              "      <td>3011</td>\n",
              "      <td>E</td>\n",
              "      <td>2.0</td>\n",
              "      <td>2023-03-07 12:45:58.407</td>\n",
              "      <td>2023-03-07</td>\n",
              "      <td>2023-03-01 00:00:00</td>\n",
              "      <td>2023-03-07</td>\n",
              "      <td>NaT</td>\n",
              "      <td>517.20</td>\n",
              "      <td>0.0</td>\n",
              "      <td>0.0</td>\n",
              "    </tr>\n",
              "  </tbody>\n",
              "</table>\n",
              "<p>10895 rows × 12 columns</p>\n",
              "</div>\n",
              "    <div class=\"colab-df-buttons\">\n",
              "\n",
              "  <div class=\"colab-df-container\">\n",
              "    <button class=\"colab-df-convert\" onclick=\"convertToInteractive('df-e08838bf-d07e-4997-864b-6bee380fc903')\"\n",
              "            title=\"Convert this dataframe to an interactive table.\"\n",
              "            style=\"display:none;\">\n",
              "\n",
              "  <svg xmlns=\"http://www.w3.org/2000/svg\" height=\"24px\" viewBox=\"0 -960 960 960\">\n",
              "    <path d=\"M120-120v-720h720v720H120Zm60-500h600v-160H180v160Zm220 220h160v-160H400v160Zm0 220h160v-160H400v160ZM180-400h160v-160H180v160Zm440 0h160v-160H620v160ZM180-180h160v-160H180v160Zm440 0h160v-160H620v160Z\"/>\n",
              "  </svg>\n",
              "    </button>\n",
              "\n",
              "  <style>\n",
              "    .colab-df-container {\n",
              "      display:flex;\n",
              "      gap: 12px;\n",
              "    }\n",
              "\n",
              "    .colab-df-convert {\n",
              "      background-color: #E8F0FE;\n",
              "      border: none;\n",
              "      border-radius: 50%;\n",
              "      cursor: pointer;\n",
              "      display: none;\n",
              "      fill: #1967D2;\n",
              "      height: 32px;\n",
              "      padding: 0 0 0 0;\n",
              "      width: 32px;\n",
              "    }\n",
              "\n",
              "    .colab-df-convert:hover {\n",
              "      background-color: #E2EBFA;\n",
              "      box-shadow: 0px 1px 2px rgba(60, 64, 67, 0.3), 0px 1px 3px 1px rgba(60, 64, 67, 0.15);\n",
              "      fill: #174EA6;\n",
              "    }\n",
              "\n",
              "    .colab-df-buttons div {\n",
              "      margin-bottom: 4px;\n",
              "    }\n",
              "\n",
              "    [theme=dark] .colab-df-convert {\n",
              "      background-color: #3B4455;\n",
              "      fill: #D2E3FC;\n",
              "    }\n",
              "\n",
              "    [theme=dark] .colab-df-convert:hover {\n",
              "      background-color: #434B5C;\n",
              "      box-shadow: 0px 1px 3px 1px rgba(0, 0, 0, 0.15);\n",
              "      filter: drop-shadow(0px 1px 2px rgba(0, 0, 0, 0.3));\n",
              "      fill: #FFFFFF;\n",
              "    }\n",
              "  </style>\n",
              "\n",
              "    <script>\n",
              "      const buttonEl =\n",
              "        document.querySelector('#df-e08838bf-d07e-4997-864b-6bee380fc903 button.colab-df-convert');\n",
              "      buttonEl.style.display =\n",
              "        google.colab.kernel.accessAllowed ? 'block' : 'none';\n",
              "\n",
              "      async function convertToInteractive(key) {\n",
              "        const element = document.querySelector('#df-e08838bf-d07e-4997-864b-6bee380fc903');\n",
              "        const dataTable =\n",
              "          await google.colab.kernel.invokeFunction('convertToInteractive',\n",
              "                                                    [key], {});\n",
              "        if (!dataTable) return;\n",
              "\n",
              "        const docLinkHtml = 'Like what you see? Visit the ' +\n",
              "          '<a target=\"_blank\" href=https://colab.research.google.com/notebooks/data_table.ipynb>data table notebook</a>'\n",
              "          + ' to learn more about interactive tables.';\n",
              "        element.innerHTML = '';\n",
              "        dataTable['output_type'] = 'display_data';\n",
              "        await google.colab.output.renderOutput(dataTable, element);\n",
              "        const docLink = document.createElement('div');\n",
              "        docLink.innerHTML = docLinkHtml;\n",
              "        element.appendChild(docLink);\n",
              "      }\n",
              "    </script>\n",
              "  </div>\n",
              "\n",
              "\n",
              "<div id=\"df-147724e2-1e45-407f-8668-1216dccdcf62\">\n",
              "  <button class=\"colab-df-quickchart\" onclick=\"quickchart('df-147724e2-1e45-407f-8668-1216dccdcf62')\"\n",
              "            title=\"Suggest charts.\"\n",
              "            style=\"display:none;\">\n",
              "\n",
              "<svg xmlns=\"http://www.w3.org/2000/svg\" height=\"24px\"viewBox=\"0 0 24 24\"\n",
              "     width=\"24px\">\n",
              "    <g>\n",
              "        <path d=\"M19 3H5c-1.1 0-2 .9-2 2v14c0 1.1.9 2 2 2h14c1.1 0 2-.9 2-2V5c0-1.1-.9-2-2-2zM9 17H7v-7h2v7zm4 0h-2V7h2v10zm4 0h-2v-4h2v4z\"/>\n",
              "    </g>\n",
              "</svg>\n",
              "  </button>\n",
              "\n",
              "<style>\n",
              "  .colab-df-quickchart {\n",
              "    background-color: #E8F0FE;\n",
              "    border: none;\n",
              "    border-radius: 50%;\n",
              "    cursor: pointer;\n",
              "    display: none;\n",
              "    fill: #1967D2;\n",
              "    height: 32px;\n",
              "    padding: 0 0 0 0;\n",
              "    width: 32px;\n",
              "  }\n",
              "\n",
              "  .colab-df-quickchart:hover {\n",
              "    background-color: #E2EBFA;\n",
              "    box-shadow: 0px 1px 2px rgba(60, 64, 67, 0.3), 0px 1px 3px 1px rgba(60, 64, 67, 0.15);\n",
              "    fill: #174EA6;\n",
              "  }\n",
              "\n",
              "  [theme=dark] .colab-df-quickchart {\n",
              "    background-color: #3B4455;\n",
              "    fill: #D2E3FC;\n",
              "  }\n",
              "\n",
              "  [theme=dark] .colab-df-quickchart:hover {\n",
              "    background-color: #434B5C;\n",
              "    box-shadow: 0px 1px 3px 1px rgba(0, 0, 0, 0.15);\n",
              "    filter: drop-shadow(0px 1px 2px rgba(0, 0, 0, 0.3));\n",
              "    fill: #FFFFFF;\n",
              "  }\n",
              "</style>\n",
              "\n",
              "  <script>\n",
              "    async function quickchart(key) {\n",
              "      const charts = await google.colab.kernel.invokeFunction(\n",
              "          'suggestCharts', [key], {});\n",
              "    }\n",
              "    (() => {\n",
              "      let quickchartButtonEl =\n",
              "        document.querySelector('#df-147724e2-1e45-407f-8668-1216dccdcf62 button');\n",
              "      quickchartButtonEl.style.display =\n",
              "        google.colab.kernel.accessAllowed ? 'block' : 'none';\n",
              "    })();\n",
              "  </script>\n",
              "</div>\n",
              "    </div>\n",
              "  </div>\n"
            ]
          },
          "metadata": {},
          "execution_count": 25
        }
      ]
    },
    {
      "cell_type": "code",
      "source": [
        "facturacion.info"
      ],
      "metadata": {
        "colab": {
          "base_uri": "https://localhost:8080/"
        },
        "id": "uqKn1GZ5x8OX",
        "outputId": "8b8ddf46-41e6-4f23-83d8-9a9e8a0c55e1"
      },
      "execution_count": 34,
      "outputs": [
        {
          "output_type": "execute_result",
          "data": {
            "text/plain": [
              "<bound method DataFrame.info of       CVE_DOC    CVE_CLPV STATUS  CVE_VEND               FECHAELAB  FECHA_DOC  \\\n",
              "0      F29414        2465      C       1.0 2019-09-03 08:58:42.000 2019-09-03   \n",
              "1      F29415        3926      C       1.0 2019-09-03 09:55:14.000 2019-09-03   \n",
              "2      F29416        3926      C       1.0 2019-09-03 13:25:33.000 2019-09-03   \n",
              "3      F29417        3926      C       1.0 2019-09-03 13:33:23.000 2019-09-03   \n",
              "4      F29418        6813      C       2.0 2019-09-03 14:23:45.000 2019-09-03   \n",
              "...       ...         ...    ...       ...                     ...        ...   \n",
              "10890  F40306        8842      E       2.0 2023-03-06 16:09:39.013 2023-03-06   \n",
              "10891  F40307        6218      N       2.0 2023-03-06 16:38:42.933 2023-03-06   \n",
              "10892  F00000        5926      E       2.0 2023-03-06 17:02:33.390 2023-03-06   \n",
              "10893  F40309         361      E       2.0 2023-03-07 12:43:49.567 2023-03-07   \n",
              "10894  F40310        3011      E       2.0 2023-03-07 12:45:58.407 2023-03-07   \n",
              "\n",
              "                 FECHA_ENT  FECHA_VEN FECHA_CANCELA  CAN_TOT  DES_TOT  DES_FIN  \n",
              "0      2019-09-03 00:00:00 2019-09-18    2019-09-04  3980.00      0.0      0.0  \n",
              "1      2019-09-03 00:00:00 2019-10-03    2019-09-03  1550.00      0.0      0.0  \n",
              "2      2019-09-03 00:00:00 2019-10-03    2019-09-03  1550.00      0.0      0.0  \n",
              "3      2019-09-03 00:00:00 2019-10-03    2019-09-17  1550.00      0.0      0.0  \n",
              "4      2019-09-03 00:00:00 2019-09-03    2019-09-10  2435.44      0.0      0.0  \n",
              "...                    ...        ...           ...      ...      ...      ...  \n",
              "10890  2023-03-01 00:00:00 2023-03-06           NaT  3272.00      0.0      0.0  \n",
              "10891  2023-03-06 00:00:00 2023-03-06           NaT   504.15      0.0      0.0  \n",
              "10892  2023-03-06 00:00:00 2023-03-06           NaT   275.68      0.0      0.0  \n",
              "10893  2023-03-07 00:00:00 2023-03-07           NaT   129.30      0.0      0.0  \n",
              "10894  2023-03-01 00:00:00 2023-03-07           NaT   517.20      0.0      0.0  \n",
              "\n",
              "[10895 rows x 12 columns]>"
            ]
          },
          "metadata": {},
          "execution_count": 34
        }
      ]
    },
    {
      "cell_type": "code",
      "source": [
        "facturacion.isnull().sum()"
      ],
      "metadata": {
        "colab": {
          "base_uri": "https://localhost:8080/"
        },
        "id": "SK-bnSeAtv_V",
        "outputId": "1c17e408-2f0a-4644-8dc4-9de569af2748"
      },
      "execution_count": 26,
      "outputs": [
        {
          "output_type": "execute_result",
          "data": {
            "text/plain": [
              "CVE_DOC              5\n",
              "CVE_CLPV             0\n",
              "STATUS               9\n",
              "CVE_VEND            48\n",
              "FECHAELAB            2\n",
              "FECHA_DOC            1\n",
              "FECHA_ENT            2\n",
              "FECHA_VEN            0\n",
              "FECHA_CANCELA    10537\n",
              "CAN_TOT              6\n",
              "DES_TOT              1\n",
              "DES_FIN              3\n",
              "dtype: int64"
            ]
          },
          "metadata": {},
          "execution_count": 26
        }
      ]
    },
    {
      "cell_type": "code",
      "source": [
        "facturacion.isnull().sum().sum()"
      ],
      "metadata": {
        "colab": {
          "base_uri": "https://localhost:8080/"
        },
        "id": "Gs1RxbmruCmF",
        "outputId": "a3c0042b-0a60-4b0c-8ac8-cc9a75738d47"
      },
      "execution_count": 27,
      "outputs": [
        {
          "output_type": "execute_result",
          "data": {
            "text/plain": [
              "10614"
            ]
          },
          "metadata": {},
          "execution_count": 27
        }
      ]
    },
    {
      "cell_type": "markdown",
      "source": [
        "Limpieza"
      ],
      "metadata": {
        "id": "6GerFyai1sJL"
      }
    },
    {
      "cell_type": "code",
      "source": [
        "#Copiamos dataframe\n",
        "facturacion2 = facturacion"
      ],
      "metadata": {
        "id": "0l1QmCxjwVI_"
      },
      "execution_count": 28,
      "outputs": []
    },
    {
      "cell_type": "markdown",
      "source": [
        "Variables que vamos a cambiar:\n",
        "  - CVE_DOC\n",
        "  - STATUS\n",
        "  - CVE_VEND\n",
        "  - FECHAELAB\n",
        "  - FECHA_DOC\n",
        "  - FECHA_ENT\n",
        "  - FECHA_CANCELA\n",
        "  - CAN_TOT\n",
        "  - DES_TOT\n",
        "  - DES_FIN"
      ],
      "metadata": {
        "id": "OszJ2vTwuIVt"
      }
    },
    {
      "cell_type": "code",
      "source": [
        "#Clave única (Se les pone clave única para identificarlos como una nueva categoría)\n",
        "  #CVE_DOC\n",
        "  #STATUS\n",
        "  #FECHA_CANCELA (Se cambió a \"0000-00-00\" para reconocer que no ha sido cancelada)\n",
        "facturacion2[\"CVE_DOC\"] = facturacion2[\"CVE_DOC\"].fillna(\"F00000\")\n",
        "facturacion2[\"FECHA_CANCELA\"] = facturacion2[\"FECHA_CANCELA\"].fillna(\"0000-00-00\")"
      ],
      "metadata": {
        "id": "YuFa7TGwueaO"
      },
      "execution_count": 35,
      "outputs": []
    },
    {
      "cell_type": "code",
      "source": [
        "#Vemos categorías de STATUS\n",
        "facturacion2.groupby([\"STATUS\"])[\"STATUS\"].count()"
      ],
      "metadata": {
        "colab": {
          "base_uri": "https://localhost:8080/"
        },
        "id": "2IQvXrFsxMK7",
        "outputId": "d94f80c2-f168-421a-8318-480ae48ef603"
      },
      "execution_count": 29,
      "outputs": [
        {
          "output_type": "execute_result",
          "data": {
            "text/plain": [
              "STATUS\n",
              "C      358\n",
              "E    10528\n",
              "Name: STATUS, dtype: int64"
            ]
          },
          "metadata": {},
          "execution_count": 29
        }
      ]
    },
    {
      "cell_type": "code",
      "source": [
        "#Solo hay C o E\n",
        "#Nueva categoría N\n",
        "facturacion2[\"STATUS\"] = facturacion2[\"STATUS\"].fillna(\"N\")"
      ],
      "metadata": {
        "id": "XGpFfduSxQ7F"
      },
      "execution_count": 31,
      "outputs": []
    },
    {
      "cell_type": "code",
      "source": [
        "#Verificamos\n",
        "facturacion2.isnull().sum()"
      ],
      "metadata": {
        "colab": {
          "base_uri": "https://localhost:8080/"
        },
        "id": "3cUlzdWgxb6w",
        "outputId": "a076b702-a67e-4206-e29f-5589a6a5dc60"
      },
      "execution_count": 36,
      "outputs": [
        {
          "output_type": "execute_result",
          "data": {
            "text/plain": [
              "CVE_DOC          0\n",
              "CVE_CLPV         0\n",
              "STATUS           0\n",
              "CVE_VEND         0\n",
              "FECHAELAB        2\n",
              "FECHA_DOC        1\n",
              "FECHA_ENT        2\n",
              "FECHA_VEN        0\n",
              "FECHA_CANCELA    0\n",
              "CAN_TOT          6\n",
              "DES_TOT          1\n",
              "DES_FIN          3\n",
              "dtype: int64"
            ]
          },
          "metadata": {},
          "execution_count": 36
        }
      ]
    },
    {
      "cell_type": "code",
      "source": [
        "#Backward Fill (Se pone la clave del vendedor anterior, se cree que es del mismo)\n",
        "  #CVE_VEND\n",
        "facturacion2[\"CVE_VEND\"] = facturacion2[\"CVE_VEND\"].fillna(method = \"bfill\")"
      ],
      "metadata": {
        "id": "3JByW6VPvdYD"
      },
      "execution_count": 37,
      "outputs": []
    },
    {
      "cell_type": "code",
      "source": [
        "#Verificamos\n",
        "facturacion2.isnull().sum()"
      ],
      "metadata": {
        "colab": {
          "base_uri": "https://localhost:8080/"
        },
        "id": "YlyKMTMAya03",
        "outputId": "7ff460af-d0e3-402e-a282-4523bd60d584"
      },
      "execution_count": 38,
      "outputs": [
        {
          "output_type": "execute_result",
          "data": {
            "text/plain": [
              "CVE_DOC          0\n",
              "CVE_CLPV         0\n",
              "STATUS           0\n",
              "CVE_VEND         0\n",
              "FECHAELAB        2\n",
              "FECHA_DOC        1\n",
              "FECHA_ENT        2\n",
              "FECHA_VEN        0\n",
              "FECHA_CANCELA    0\n",
              "CAN_TOT          6\n",
              "DES_TOT          1\n",
              "DES_FIN          3\n",
              "dtype: int64"
            ]
          },
          "metadata": {},
          "execution_count": 38
        }
      ]
    },
    {
      "cell_type": "code",
      "source": [
        "#Forward Fill (Se pone la fecha del registro siguiente ya que van en ese orden ascendente)\n",
        "  #FECHAELAB\n",
        "  #FECHA_DOC\n",
        "  #FECHA_ENT\n",
        "facturacion2[\"FECHAELAB\"] = facturacion2[\"FECHAELAB\"].fillna(method = \"ffill\")\n",
        "facturacion2[\"FECHA_DOC\"] = facturacion2[\"FECHA_DOC\"].fillna(method = \"ffill\")\n",
        "facturacion2[\"FECHA_ENT\"] = facturacion2[\"FECHA_ENT\"].fillna(method = \"ffill\")"
      ],
      "metadata": {
        "id": "eEaWQIWavqNN"
      },
      "execution_count": 40,
      "outputs": []
    },
    {
      "cell_type": "code",
      "source": [
        "#Verificamos\n",
        "facturacion2.isnull().sum()"
      ],
      "metadata": {
        "colab": {
          "base_uri": "https://localhost:8080/"
        },
        "id": "nRI-LV3Ny5II",
        "outputId": "c581805c-286a-4e33-cb20-123b8fa37d8d"
      },
      "execution_count": 41,
      "outputs": [
        {
          "output_type": "execute_result",
          "data": {
            "text/plain": [
              "CVE_DOC          0\n",
              "CVE_CLPV         0\n",
              "STATUS           0\n",
              "CVE_VEND         0\n",
              "FECHAELAB        0\n",
              "FECHA_DOC        0\n",
              "FECHA_ENT        0\n",
              "FECHA_VEN        0\n",
              "FECHA_CANCELA    0\n",
              "CAN_TOT          6\n",
              "DES_TOT          1\n",
              "DES_FIN          3\n",
              "dtype: int64"
            ]
          },
          "metadata": {},
          "execution_count": 41
        }
      ]
    },
    {
      "cell_type": "code",
      "source": [
        "#Promedio\n",
        "  #CAN_TOT (Promedio de la cantidad total de venta, para poner un valor medio)\n",
        "facturacion2[\"CAN_TOT\"] = facturacion2[\"CAN_TOT\"].fillna(facturacion[\"CAN_TOT\"].mean())"
      ],
      "metadata": {
        "id": "2FqagPw_wDh_"
      },
      "execution_count": 42,
      "outputs": []
    },
    {
      "cell_type": "code",
      "source": [
        "#Verificamos\n",
        "facturacion2.isnull().sum()"
      ],
      "metadata": {
        "colab": {
          "base_uri": "https://localhost:8080/"
        },
        "id": "ngyIOQbmz4iQ",
        "outputId": "705426a8-f977-469f-9325-7ebf3da4e1cb"
      },
      "execution_count": 43,
      "outputs": [
        {
          "output_type": "execute_result",
          "data": {
            "text/plain": [
              "CVE_DOC          0\n",
              "CVE_CLPV         0\n",
              "STATUS           0\n",
              "CVE_VEND         0\n",
              "FECHAELAB        0\n",
              "FECHA_DOC        0\n",
              "FECHA_ENT        0\n",
              "FECHA_VEN        0\n",
              "FECHA_CANCELA    0\n",
              "CAN_TOT          0\n",
              "DES_TOT          1\n",
              "DES_FIN          3\n",
              "dtype: int64"
            ]
          },
          "metadata": {},
          "execution_count": 43
        }
      ]
    },
    {
      "cell_type": "code",
      "source": [
        "#Mediana (Se busca un valor medio para rellenar estas variables)\n",
        "  #DES_TOT\n",
        "  #DES_FIN\n",
        "facturacion2[\"DES_TOT\"] = facturacion2[\"DES_TOT\"].fillna(facturacion[\"DES_TOT\"].median())\n",
        "facturacion2[\"DES_FIN\"] = facturacion2[\"DES_FIN\"].fillna(facturacion[\"DES_FIN\"].median())"
      ],
      "metadata": {
        "id": "9ZUmp_NYwIqX"
      },
      "execution_count": 45,
      "outputs": []
    },
    {
      "cell_type": "code",
      "source": [
        "#Verificamos\n",
        "facturacion2.isnull().sum()"
      ],
      "metadata": {
        "colab": {
          "base_uri": "https://localhost:8080/"
        },
        "id": "kvQe3L130jDi",
        "outputId": "89b46bf6-6a58-4ef5-8ec4-49c34aeb219e"
      },
      "execution_count": 46,
      "outputs": [
        {
          "output_type": "execute_result",
          "data": {
            "text/plain": [
              "CVE_DOC          0\n",
              "CVE_CLPV         0\n",
              "STATUS           0\n",
              "CVE_VEND         0\n",
              "FECHAELAB        0\n",
              "FECHA_DOC        0\n",
              "FECHA_ENT        0\n",
              "FECHA_VEN        0\n",
              "FECHA_CANCELA    0\n",
              "CAN_TOT          0\n",
              "DES_TOT          0\n",
              "DES_FIN          0\n",
              "dtype: int64"
            ]
          },
          "metadata": {},
          "execution_count": 46
        }
      ]
    },
    {
      "cell_type": "code",
      "source": [
        "#Verificamos todos\n",
        "facturacion2.isnull().sum().sum()"
      ],
      "metadata": {
        "colab": {
          "base_uri": "https://localhost:8080/"
        },
        "id": "gFsmJxg90pHK",
        "outputId": "59b7d722-e253-457e-bbad-65dbec612039"
      },
      "execution_count": 47,
      "outputs": [
        {
          "output_type": "execute_result",
          "data": {
            "text/plain": [
              "0"
            ]
          },
          "metadata": {},
          "execution_count": 47
        }
      ]
    },
    {
      "cell_type": "markdown",
      "source": [
        "## Detalle precios y productos fabricados 2022"
      ],
      "metadata": {
        "id": "L429tkxz1Ooq"
      }
    },
    {
      "cell_type": "markdown",
      "source": [
        "Visualización"
      ],
      "metadata": {
        "id": "4KrbXSBh1xuS"
      }
    },
    {
      "cell_type": "code",
      "source": [
        "detalle"
      ],
      "metadata": {
        "colab": {
          "base_uri": "https://localhost:8080/",
          "height": 808
        },
        "id": "jgm8SMUH0xOy",
        "outputId": "673e600e-171f-4512-bf1a-e095447e31ff"
      },
      "execution_count": 54,
      "outputs": [
        {
          "output_type": "execute_result",
          "data": {
            "text/plain": [
              "     CVE_DOC  FECHA_DOC            NOMBRE_VENDEDOR  \\\n",
              "0     F37034 2022-01-05  LETICIA RAMIREZ HERNANDEZ   \n",
              "1     F37036 2022-01-05  LETICIA RAMIREZ HERNANDEZ   \n",
              "2     F37041 2022-01-05   DIEGO ARMANDO LEON DURAN   \n",
              "3     F37042 2022-01-05   DIEGO ARMANDO LEON DURAN   \n",
              "4     F37043 2022-01-05  LETICIA RAMIREZ HERNANDEZ   \n",
              "...      ...        ...                        ...   \n",
              "1421  F39834 2022-12-23  LETICIA RAMIREZ HERNANDEZ   \n",
              "1422  F39834 2022-12-23  LETICIA RAMIREZ HERNANDEZ   \n",
              "1423  F39835 2022-12-23  LETICIA RAMIREZ HERNANDEZ   \n",
              "1424  F39837 2022-12-23  LETICIA RAMIREZ HERNANDEZ   \n",
              "1425  F39838 2022-12-23         AARON NUÑO CORDOVA   \n",
              "\n",
              "                    NOMBRE_CLIENTE  CANT       CVE_ART  \\\n",
              "0               PÚBLICO EN GENERAL   1.0      TUE00244   \n",
              "1     JUAN ANTONIO RESENDIZ UGALDE   1.0      TUA00028   \n",
              "2        ANA BARBARA CRUZ PALACIOS   7.0        TP0007   \n",
              "3             OMAR RODRIGUEZ GOMEZ   1.0        TP0001   \n",
              "4               PÚBLICO EN GENERAL   2.0       BP00242   \n",
              "...                            ...   ...           ...   \n",
              "1421     LUIS ENRIQUE PATIÑO PEREZ   6.0  CS12F1040A00   \n",
              "1422     LUIS ENRIQUE PATIÑO PEREZ   6.0  CS12H1050A00   \n",
              "1423          SEVEN DAYS ALL SPORT   3.0      TUE00394   \n",
              "1424           REVUELTA MONTECARLO   1.0      TUA00470   \n",
              "1425                CPEG SOLUTIONS  10.0       RB00007   \n",
              "\n",
              "                                         DESCR  PRECIO_UNITARIO  \\\n",
              "0      TUB COBRE 5/16\"ØX165MM CIRCULA1.5KW127V           434.48   \n",
              "1      TUA U\" 5/16 ØX250MM 1200W 120V TAP1\"NPT          1264.05   \n",
              "2         TERMOPAR J 3/16 Ø X 1' 1/2 EXT. 7 MT           551.61   \n",
              "3         TERMOPAR J 3/16 Ø X 1' 1/2 EXT. 1 MT           140.00   \n",
              "4      BAN P INOX 115MMX235MM 1000W 127V T/TOR           172.41   \n",
              "...                                        ...              ...   \n",
              "1421      CAS INOX 1/2\"ØX3\" 400W 127V EXT.30CM           712.00   \n",
              "1422       CAS INOX 1/2\"ØX4\" 500W 127V EXT30CM           718.60   \n",
              "1423  TUB INOX 5/16\"ØX300MM 5300W 220V \"M\" ESP          2182.35   \n",
              "1424  TUB INOX 1/2\"ØX500MM 10KW 220V 2 1/2\"NPT          5909.84   \n",
              "1425   FAB  BOBINA DSD1 6 COLOCAR B/NUEVA 488V          1406.00   \n",
              "\n",
              "      COSTO_UNITARIO  COSTO_UNITARIO_CALCULADO  SUBTOTAL_PARTIDA  \\\n",
              "0              52.80                     52.80            434.48   \n",
              "1             327.18                    327.18           1264.05   \n",
              "2             177.68                    177.68           3861.29   \n",
              "3              38.96                     38.96            140.00   \n",
              "4             101.71                    101.71            344.83   \n",
              "...              ...                       ...               ...   \n",
              "1421          102.31                    102.31           4272.00   \n",
              "1422          104.69                    104.69           4311.60   \n",
              "1423            0.00                    596.55           6547.05   \n",
              "1424         1884.35                   1884.35           5909.84   \n",
              "1425            0.00                     80.66          14060.00   \n",
              "\n",
              "      COSTO_TOTAL_CALCULADO  MARGEN_UNITARIO_CALCULADO  MARGEN_TOTAL_CALCULADO  \n",
              "0                     52.80                     381.68                  381.68  \n",
              "1                    327.18                     936.87                  936.87  \n",
              "2                   1243.73                     373.94                 2617.56  \n",
              "3                     38.96                     101.04                  101.04  \n",
              "4                    203.42                      70.71                  141.41  \n",
              "...                     ...                        ...                     ...  \n",
              "1421                 613.88                     609.69                 3658.12  \n",
              "1422                 628.12                     613.91                 3683.48  \n",
              "1423                1789.64                    1585.80                 4757.41  \n",
              "1424                1884.35                    4025.49                 4025.49  \n",
              "1425                 806.55                    1325.34                13253.45  \n",
              "\n",
              "[1426 rows x 14 columns]"
            ],
            "text/html": [
              "\n",
              "  <div id=\"df-3e25aab0-e608-4d32-83a9-0a5bd16d1863\" class=\"colab-df-container\">\n",
              "    <div>\n",
              "<style scoped>\n",
              "    .dataframe tbody tr th:only-of-type {\n",
              "        vertical-align: middle;\n",
              "    }\n",
              "\n",
              "    .dataframe tbody tr th {\n",
              "        vertical-align: top;\n",
              "    }\n",
              "\n",
              "    .dataframe thead th {\n",
              "        text-align: right;\n",
              "    }\n",
              "</style>\n",
              "<table border=\"1\" class=\"dataframe\">\n",
              "  <thead>\n",
              "    <tr style=\"text-align: right;\">\n",
              "      <th></th>\n",
              "      <th>CVE_DOC</th>\n",
              "      <th>FECHA_DOC</th>\n",
              "      <th>NOMBRE_VENDEDOR</th>\n",
              "      <th>NOMBRE_CLIENTE</th>\n",
              "      <th>CANT</th>\n",
              "      <th>CVE_ART</th>\n",
              "      <th>DESCR</th>\n",
              "      <th>PRECIO_UNITARIO</th>\n",
              "      <th>COSTO_UNITARIO</th>\n",
              "      <th>COSTO_UNITARIO_CALCULADO</th>\n",
              "      <th>SUBTOTAL_PARTIDA</th>\n",
              "      <th>COSTO_TOTAL_CALCULADO</th>\n",
              "      <th>MARGEN_UNITARIO_CALCULADO</th>\n",
              "      <th>MARGEN_TOTAL_CALCULADO</th>\n",
              "    </tr>\n",
              "  </thead>\n",
              "  <tbody>\n",
              "    <tr>\n",
              "      <th>0</th>\n",
              "      <td>F37034</td>\n",
              "      <td>2022-01-05</td>\n",
              "      <td>LETICIA RAMIREZ HERNANDEZ</td>\n",
              "      <td>PÚBLICO EN GENERAL</td>\n",
              "      <td>1.0</td>\n",
              "      <td>TUE00244</td>\n",
              "      <td>TUB COBRE 5/16\"ØX165MM CIRCULA1.5KW127V</td>\n",
              "      <td>434.48</td>\n",
              "      <td>52.80</td>\n",
              "      <td>52.80</td>\n",
              "      <td>434.48</td>\n",
              "      <td>52.80</td>\n",
              "      <td>381.68</td>\n",
              "      <td>381.68</td>\n",
              "    </tr>\n",
              "    <tr>\n",
              "      <th>1</th>\n",
              "      <td>F37036</td>\n",
              "      <td>2022-01-05</td>\n",
              "      <td>LETICIA RAMIREZ HERNANDEZ</td>\n",
              "      <td>JUAN ANTONIO RESENDIZ UGALDE</td>\n",
              "      <td>1.0</td>\n",
              "      <td>TUA00028</td>\n",
              "      <td>TUA U\" 5/16 ØX250MM 1200W 120V TAP1\"NPT</td>\n",
              "      <td>1264.05</td>\n",
              "      <td>327.18</td>\n",
              "      <td>327.18</td>\n",
              "      <td>1264.05</td>\n",
              "      <td>327.18</td>\n",
              "      <td>936.87</td>\n",
              "      <td>936.87</td>\n",
              "    </tr>\n",
              "    <tr>\n",
              "      <th>2</th>\n",
              "      <td>F37041</td>\n",
              "      <td>2022-01-05</td>\n",
              "      <td>DIEGO ARMANDO LEON DURAN</td>\n",
              "      <td>ANA BARBARA CRUZ PALACIOS</td>\n",
              "      <td>7.0</td>\n",
              "      <td>TP0007</td>\n",
              "      <td>TERMOPAR J 3/16 Ø X 1' 1/2 EXT. 7 MT</td>\n",
              "      <td>551.61</td>\n",
              "      <td>177.68</td>\n",
              "      <td>177.68</td>\n",
              "      <td>3861.29</td>\n",
              "      <td>1243.73</td>\n",
              "      <td>373.94</td>\n",
              "      <td>2617.56</td>\n",
              "    </tr>\n",
              "    <tr>\n",
              "      <th>3</th>\n",
              "      <td>F37042</td>\n",
              "      <td>2022-01-05</td>\n",
              "      <td>DIEGO ARMANDO LEON DURAN</td>\n",
              "      <td>OMAR RODRIGUEZ GOMEZ</td>\n",
              "      <td>1.0</td>\n",
              "      <td>TP0001</td>\n",
              "      <td>TERMOPAR J 3/16 Ø X 1' 1/2 EXT. 1 MT</td>\n",
              "      <td>140.00</td>\n",
              "      <td>38.96</td>\n",
              "      <td>38.96</td>\n",
              "      <td>140.00</td>\n",
              "      <td>38.96</td>\n",
              "      <td>101.04</td>\n",
              "      <td>101.04</td>\n",
              "    </tr>\n",
              "    <tr>\n",
              "      <th>4</th>\n",
              "      <td>F37043</td>\n",
              "      <td>2022-01-05</td>\n",
              "      <td>LETICIA RAMIREZ HERNANDEZ</td>\n",
              "      <td>PÚBLICO EN GENERAL</td>\n",
              "      <td>2.0</td>\n",
              "      <td>BP00242</td>\n",
              "      <td>BAN P INOX 115MMX235MM 1000W 127V T/TOR</td>\n",
              "      <td>172.41</td>\n",
              "      <td>101.71</td>\n",
              "      <td>101.71</td>\n",
              "      <td>344.83</td>\n",
              "      <td>203.42</td>\n",
              "      <td>70.71</td>\n",
              "      <td>141.41</td>\n",
              "    </tr>\n",
              "    <tr>\n",
              "      <th>...</th>\n",
              "      <td>...</td>\n",
              "      <td>...</td>\n",
              "      <td>...</td>\n",
              "      <td>...</td>\n",
              "      <td>...</td>\n",
              "      <td>...</td>\n",
              "      <td>...</td>\n",
              "      <td>...</td>\n",
              "      <td>...</td>\n",
              "      <td>...</td>\n",
              "      <td>...</td>\n",
              "      <td>...</td>\n",
              "      <td>...</td>\n",
              "      <td>...</td>\n",
              "    </tr>\n",
              "    <tr>\n",
              "      <th>1421</th>\n",
              "      <td>F39834</td>\n",
              "      <td>2022-12-23</td>\n",
              "      <td>LETICIA RAMIREZ HERNANDEZ</td>\n",
              "      <td>LUIS ENRIQUE PATIÑO PEREZ</td>\n",
              "      <td>6.0</td>\n",
              "      <td>CS12F1040A00</td>\n",
              "      <td>CAS INOX 1/2\"ØX3\" 400W 127V EXT.30CM</td>\n",
              "      <td>712.00</td>\n",
              "      <td>102.31</td>\n",
              "      <td>102.31</td>\n",
              "      <td>4272.00</td>\n",
              "      <td>613.88</td>\n",
              "      <td>609.69</td>\n",
              "      <td>3658.12</td>\n",
              "    </tr>\n",
              "    <tr>\n",
              "      <th>1422</th>\n",
              "      <td>F39834</td>\n",
              "      <td>2022-12-23</td>\n",
              "      <td>LETICIA RAMIREZ HERNANDEZ</td>\n",
              "      <td>LUIS ENRIQUE PATIÑO PEREZ</td>\n",
              "      <td>6.0</td>\n",
              "      <td>CS12H1050A00</td>\n",
              "      <td>CAS INOX 1/2\"ØX4\" 500W 127V EXT30CM</td>\n",
              "      <td>718.60</td>\n",
              "      <td>104.69</td>\n",
              "      <td>104.69</td>\n",
              "      <td>4311.60</td>\n",
              "      <td>628.12</td>\n",
              "      <td>613.91</td>\n",
              "      <td>3683.48</td>\n",
              "    </tr>\n",
              "    <tr>\n",
              "      <th>1423</th>\n",
              "      <td>F39835</td>\n",
              "      <td>2022-12-23</td>\n",
              "      <td>LETICIA RAMIREZ HERNANDEZ</td>\n",
              "      <td>SEVEN DAYS ALL SPORT</td>\n",
              "      <td>3.0</td>\n",
              "      <td>TUE00394</td>\n",
              "      <td>TUB INOX 5/16\"ØX300MM 5300W 220V \"M\" ESP</td>\n",
              "      <td>2182.35</td>\n",
              "      <td>0.00</td>\n",
              "      <td>596.55</td>\n",
              "      <td>6547.05</td>\n",
              "      <td>1789.64</td>\n",
              "      <td>1585.80</td>\n",
              "      <td>4757.41</td>\n",
              "    </tr>\n",
              "    <tr>\n",
              "      <th>1424</th>\n",
              "      <td>F39837</td>\n",
              "      <td>2022-12-23</td>\n",
              "      <td>LETICIA RAMIREZ HERNANDEZ</td>\n",
              "      <td>REVUELTA MONTECARLO</td>\n",
              "      <td>1.0</td>\n",
              "      <td>TUA00470</td>\n",
              "      <td>TUB INOX 1/2\"ØX500MM 10KW 220V 2 1/2\"NPT</td>\n",
              "      <td>5909.84</td>\n",
              "      <td>1884.35</td>\n",
              "      <td>1884.35</td>\n",
              "      <td>5909.84</td>\n",
              "      <td>1884.35</td>\n",
              "      <td>4025.49</td>\n",
              "      <td>4025.49</td>\n",
              "    </tr>\n",
              "    <tr>\n",
              "      <th>1425</th>\n",
              "      <td>F39838</td>\n",
              "      <td>2022-12-23</td>\n",
              "      <td>AARON NUÑO CORDOVA</td>\n",
              "      <td>CPEG SOLUTIONS</td>\n",
              "      <td>10.0</td>\n",
              "      <td>RB00007</td>\n",
              "      <td>FAB  BOBINA DSD1 6 COLOCAR B/NUEVA 488V</td>\n",
              "      <td>1406.00</td>\n",
              "      <td>0.00</td>\n",
              "      <td>80.66</td>\n",
              "      <td>14060.00</td>\n",
              "      <td>806.55</td>\n",
              "      <td>1325.34</td>\n",
              "      <td>13253.45</td>\n",
              "    </tr>\n",
              "  </tbody>\n",
              "</table>\n",
              "<p>1426 rows × 14 columns</p>\n",
              "</div>\n",
              "    <div class=\"colab-df-buttons\">\n",
              "\n",
              "  <div class=\"colab-df-container\">\n",
              "    <button class=\"colab-df-convert\" onclick=\"convertToInteractive('df-3e25aab0-e608-4d32-83a9-0a5bd16d1863')\"\n",
              "            title=\"Convert this dataframe to an interactive table.\"\n",
              "            style=\"display:none;\">\n",
              "\n",
              "  <svg xmlns=\"http://www.w3.org/2000/svg\" height=\"24px\" viewBox=\"0 -960 960 960\">\n",
              "    <path d=\"M120-120v-720h720v720H120Zm60-500h600v-160H180v160Zm220 220h160v-160H400v160Zm0 220h160v-160H400v160ZM180-400h160v-160H180v160Zm440 0h160v-160H620v160ZM180-180h160v-160H180v160Zm440 0h160v-160H620v160Z\"/>\n",
              "  </svg>\n",
              "    </button>\n",
              "\n",
              "  <style>\n",
              "    .colab-df-container {\n",
              "      display:flex;\n",
              "      gap: 12px;\n",
              "    }\n",
              "\n",
              "    .colab-df-convert {\n",
              "      background-color: #E8F0FE;\n",
              "      border: none;\n",
              "      border-radius: 50%;\n",
              "      cursor: pointer;\n",
              "      display: none;\n",
              "      fill: #1967D2;\n",
              "      height: 32px;\n",
              "      padding: 0 0 0 0;\n",
              "      width: 32px;\n",
              "    }\n",
              "\n",
              "    .colab-df-convert:hover {\n",
              "      background-color: #E2EBFA;\n",
              "      box-shadow: 0px 1px 2px rgba(60, 64, 67, 0.3), 0px 1px 3px 1px rgba(60, 64, 67, 0.15);\n",
              "      fill: #174EA6;\n",
              "    }\n",
              "\n",
              "    .colab-df-buttons div {\n",
              "      margin-bottom: 4px;\n",
              "    }\n",
              "\n",
              "    [theme=dark] .colab-df-convert {\n",
              "      background-color: #3B4455;\n",
              "      fill: #D2E3FC;\n",
              "    }\n",
              "\n",
              "    [theme=dark] .colab-df-convert:hover {\n",
              "      background-color: #434B5C;\n",
              "      box-shadow: 0px 1px 3px 1px rgba(0, 0, 0, 0.15);\n",
              "      filter: drop-shadow(0px 1px 2px rgba(0, 0, 0, 0.3));\n",
              "      fill: #FFFFFF;\n",
              "    }\n",
              "  </style>\n",
              "\n",
              "    <script>\n",
              "      const buttonEl =\n",
              "        document.querySelector('#df-3e25aab0-e608-4d32-83a9-0a5bd16d1863 button.colab-df-convert');\n",
              "      buttonEl.style.display =\n",
              "        google.colab.kernel.accessAllowed ? 'block' : 'none';\n",
              "\n",
              "      async function convertToInteractive(key) {\n",
              "        const element = document.querySelector('#df-3e25aab0-e608-4d32-83a9-0a5bd16d1863');\n",
              "        const dataTable =\n",
              "          await google.colab.kernel.invokeFunction('convertToInteractive',\n",
              "                                                    [key], {});\n",
              "        if (!dataTable) return;\n",
              "\n",
              "        const docLinkHtml = 'Like what you see? Visit the ' +\n",
              "          '<a target=\"_blank\" href=https://colab.research.google.com/notebooks/data_table.ipynb>data table notebook</a>'\n",
              "          + ' to learn more about interactive tables.';\n",
              "        element.innerHTML = '';\n",
              "        dataTable['output_type'] = 'display_data';\n",
              "        await google.colab.output.renderOutput(dataTable, element);\n",
              "        const docLink = document.createElement('div');\n",
              "        docLink.innerHTML = docLinkHtml;\n",
              "        element.appendChild(docLink);\n",
              "      }\n",
              "    </script>\n",
              "  </div>\n",
              "\n",
              "\n",
              "<div id=\"df-f1a68bdb-0ee0-408c-932b-f1a5823b6461\">\n",
              "  <button class=\"colab-df-quickchart\" onclick=\"quickchart('df-f1a68bdb-0ee0-408c-932b-f1a5823b6461')\"\n",
              "            title=\"Suggest charts.\"\n",
              "            style=\"display:none;\">\n",
              "\n",
              "<svg xmlns=\"http://www.w3.org/2000/svg\" height=\"24px\"viewBox=\"0 0 24 24\"\n",
              "     width=\"24px\">\n",
              "    <g>\n",
              "        <path d=\"M19 3H5c-1.1 0-2 .9-2 2v14c0 1.1.9 2 2 2h14c1.1 0 2-.9 2-2V5c0-1.1-.9-2-2-2zM9 17H7v-7h2v7zm4 0h-2V7h2v10zm4 0h-2v-4h2v4z\"/>\n",
              "    </g>\n",
              "</svg>\n",
              "  </button>\n",
              "\n",
              "<style>\n",
              "  .colab-df-quickchart {\n",
              "    background-color: #E8F0FE;\n",
              "    border: none;\n",
              "    border-radius: 50%;\n",
              "    cursor: pointer;\n",
              "    display: none;\n",
              "    fill: #1967D2;\n",
              "    height: 32px;\n",
              "    padding: 0 0 0 0;\n",
              "    width: 32px;\n",
              "  }\n",
              "\n",
              "  .colab-df-quickchart:hover {\n",
              "    background-color: #E2EBFA;\n",
              "    box-shadow: 0px 1px 2px rgba(60, 64, 67, 0.3), 0px 1px 3px 1px rgba(60, 64, 67, 0.15);\n",
              "    fill: #174EA6;\n",
              "  }\n",
              "\n",
              "  [theme=dark] .colab-df-quickchart {\n",
              "    background-color: #3B4455;\n",
              "    fill: #D2E3FC;\n",
              "  }\n",
              "\n",
              "  [theme=dark] .colab-df-quickchart:hover {\n",
              "    background-color: #434B5C;\n",
              "    box-shadow: 0px 1px 3px 1px rgba(0, 0, 0, 0.15);\n",
              "    filter: drop-shadow(0px 1px 2px rgba(0, 0, 0, 0.3));\n",
              "    fill: #FFFFFF;\n",
              "  }\n",
              "</style>\n",
              "\n",
              "  <script>\n",
              "    async function quickchart(key) {\n",
              "      const charts = await google.colab.kernel.invokeFunction(\n",
              "          'suggestCharts', [key], {});\n",
              "    }\n",
              "    (() => {\n",
              "      let quickchartButtonEl =\n",
              "        document.querySelector('#df-f1a68bdb-0ee0-408c-932b-f1a5823b6461 button');\n",
              "      quickchartButtonEl.style.display =\n",
              "        google.colab.kernel.accessAllowed ? 'block' : 'none';\n",
              "    })();\n",
              "  </script>\n",
              "</div>\n",
              "    </div>\n",
              "  </div>\n"
            ]
          },
          "metadata": {},
          "execution_count": 54
        }
      ]
    },
    {
      "cell_type": "code",
      "source": [
        "detalle.info"
      ],
      "metadata": {
        "id": "OYrmD7Co07i-"
      },
      "execution_count": null,
      "outputs": []
    },
    {
      "cell_type": "code",
      "source": [
        "detalle.isnull().sum()"
      ],
      "metadata": {
        "id": "8LQl4fE-12dl"
      },
      "execution_count": null,
      "outputs": []
    },
    {
      "cell_type": "code",
      "source": [
        "detalle.isnull().sum().sum()"
      ],
      "metadata": {
        "colab": {
          "base_uri": "https://localhost:8080/"
        },
        "id": "ZzvvOx6E19AY",
        "outputId": "86e796db-ea7b-4044-f524-0ee6f0b75a4d"
      },
      "execution_count": 57,
      "outputs": [
        {
          "output_type": "execute_result",
          "data": {
            "text/plain": [
              "33"
            ]
          },
          "metadata": {},
          "execution_count": 57
        }
      ]
    },
    {
      "cell_type": "markdown",
      "source": [
        "Limpieza"
      ],
      "metadata": {
        "id": "jco7ofLW2EUZ"
      }
    },
    {
      "cell_type": "code",
      "source": [
        "#Copiamos el dataframe\n",
        "detalle2 = detalle"
      ],
      "metadata": {
        "id": "x8gnu0UL2kd6"
      },
      "execution_count": 85,
      "outputs": []
    },
    {
      "cell_type": "markdown",
      "source": [
        "Variables que vamos a limpiar\n",
        "  - CVE_DOC\n",
        "  - FECHA_DOC\n",
        "  - NOMBRE_VENDEDOR\n",
        "  - NOMBRE_CLIENTE\n",
        "  - CANT\n",
        "  - CVE_ART\n",
        "  - DESCR\n",
        "  - PRECIO_UNITARIO\n",
        "  - COSTO_UNITARIO\n",
        "  - COSTO_UNITARIO_CALCULADO\n",
        "  - SUBTOTAL_PARTIDA"
      ],
      "metadata": {
        "id": "UmDQ3KXc2G84"
      }
    },
    {
      "cell_type": "code",
      "source": [
        "#Clave única (Se pone una clave única [en vendedor y cliente \"desconocido\"], para crear una nueva categoría de valores no conocidos)\n",
        "  #CVE_DOC\n",
        "  #NOMBRE_VENDEDOR\n",
        "  #NOMBRE_CLIENTE\n",
        "  #CVE_ART\n",
        "  #DESCR\n",
        "detalle2[\"CVE_DOC\"] = detalle2[\"CVE_DOC\"].fillna(\"F00000\")\n",
        "detalle2[\"NOMBRE_VENDEDOR\"] = detalle2[\"NOMBRE_VENDEDOR\"].fillna(\"DESCONOCIDO\")\n",
        "detalle2[\"NOMBRE_CLIENTE\"] = detalle2[\"NOMBRE_CLIENTE\"].fillna(\"DESCONOCIDO\")\n",
        "detalle2[\"CVE_ART\"] = detalle2[\"CVE_ART\"].fillna(\"N########\")\n",
        "detalle2[\"DESCR\"] = detalle2[\"DESCR\"].fillna(\"N#######\")\n"
      ],
      "metadata": {
        "id": "MCAUAEO52GGu"
      },
      "execution_count": 86,
      "outputs": []
    },
    {
      "cell_type": "code",
      "source": [
        "#Verificamos\n",
        "detalle2.isnull().sum()"
      ],
      "metadata": {
        "colab": {
          "base_uri": "https://localhost:8080/"
        },
        "id": "C_FFP84Y5vVZ",
        "outputId": "51d0f714-293b-40f3-83f8-468550a3942a"
      },
      "execution_count": 88,
      "outputs": [
        {
          "output_type": "execute_result",
          "data": {
            "text/plain": [
              "CVE_DOC                      0\n",
              "FECHA_DOC                    3\n",
              "NOMBRE_VENDEDOR              0\n",
              "NOMBRE_CLIENTE               0\n",
              "CANT                         7\n",
              "CVE_ART                      0\n",
              "DESCR                        0\n",
              "PRECIO_UNITARIO              2\n",
              "COSTO_UNITARIO               4\n",
              "COSTO_UNITARIO_CALCULADO     2\n",
              "SUBTOTAL_PARTIDA             4\n",
              "COSTO_TOTAL_CALCULADO        0\n",
              "MARGEN_UNITARIO_CALCULADO    0\n",
              "MARGEN_TOTAL_CALCULADO       0\n",
              "dtype: int64"
            ]
          },
          "metadata": {},
          "execution_count": 88
        }
      ]
    },
    {
      "cell_type": "code",
      "source": [
        "#Backward Fill (Se pone la fecha del registro anterior para mantenerlas en orden por tiempo)\n",
        "  #FECHA_DOC\n",
        "detalle2[\"FECHA_DOC\"] = detalle2[\"FECHA_DOC\"].fillna(method = \"ffill\")"
      ],
      "metadata": {
        "id": "5_OJq6aG62xa"
      },
      "execution_count": 96,
      "outputs": []
    },
    {
      "cell_type": "code",
      "source": [
        "#Verificamos\n",
        "detalle2.isnull().sum()"
      ],
      "metadata": {
        "colab": {
          "base_uri": "https://localhost:8080/"
        },
        "id": "tg-xTr-57X_i",
        "outputId": "a25e8bdb-7db5-4c71-e269-1fcfbe0a4637"
      },
      "execution_count": 97,
      "outputs": [
        {
          "output_type": "execute_result",
          "data": {
            "text/plain": [
              "CVE_DOC                      0\n",
              "FECHA_DOC                    0\n",
              "NOMBRE_VENDEDOR              0\n",
              "NOMBRE_CLIENTE               0\n",
              "CANT                         0\n",
              "CVE_ART                      0\n",
              "DESCR                        0\n",
              "PRECIO_UNITARIO              0\n",
              "COSTO_UNITARIO               0\n",
              "COSTO_UNITARIO_CALCULADO     0\n",
              "SUBTOTAL_PARTIDA             0\n",
              "COSTO_TOTAL_CALCULADO        0\n",
              "MARGEN_UNITARIO_CALCULADO    0\n",
              "MARGEN_TOTAL_CALCULADO       0\n",
              "dtype: int64"
            ]
          },
          "metadata": {},
          "execution_count": 97
        }
      ]
    },
    {
      "cell_type": "code",
      "source": [
        "#Mediana (Se pone el valor medio de la columna para mantenerlo dentro del rango)\n",
        "  #CANT\n",
        "detalle2[\"CANT\"] = detalle2[\"CANT\"].fillna(detalle[\"CANT\"].median())"
      ],
      "metadata": {
        "id": "kmOJeKnU26l6"
      },
      "execution_count": 90,
      "outputs": []
    },
    {
      "cell_type": "code",
      "source": [
        "#Verificamos\n",
        "detalle2.isnull().sum()"
      ],
      "metadata": {
        "colab": {
          "base_uri": "https://localhost:8080/"
        },
        "id": "uFsTsqr753_o",
        "outputId": "1f0a94ff-8c77-4a91-8dd0-702add67a036"
      },
      "execution_count": 91,
      "outputs": [
        {
          "output_type": "execute_result",
          "data": {
            "text/plain": [
              "CVE_DOC                      0\n",
              "FECHA_DOC                    3\n",
              "NOMBRE_VENDEDOR              0\n",
              "NOMBRE_CLIENTE               0\n",
              "CANT                         0\n",
              "CVE_ART                      0\n",
              "DESCR                        0\n",
              "PRECIO_UNITARIO              2\n",
              "COSTO_UNITARIO               4\n",
              "COSTO_UNITARIO_CALCULADO     2\n",
              "SUBTOTAL_PARTIDA             4\n",
              "COSTO_TOTAL_CALCULADO        0\n",
              "MARGEN_UNITARIO_CALCULADO    0\n",
              "MARGEN_TOTAL_CALCULADO       0\n",
              "dtype: int64"
            ]
          },
          "metadata": {},
          "execution_count": 91
        }
      ]
    },
    {
      "cell_type": "code",
      "source": [
        "#Media (Ya que son variables continuas, se pone un valor medio para cada columna dependiendo de su variabilidad)\n",
        "  #PRECIO_UNITARIO\n",
        "  #COSTO_UNITARIO\n",
        "  #COSTO_UNITARIO_CALCULADO\n",
        "  #SUBTOTAL_PARTIDA\n",
        "columnas_rellenar_mean = [\"PRECIO_UNITARIO\", \"COSTO_UNITARIO\", \"COSTO_UNITARIO_CALCULADO\", \"SUBTOTAL_PARTIDA\"]\n",
        "detalle2[columnas_rellenar_mean] = detalle2[columnas_rellenar_mean].fillna(detalle[columnas_rellenar_mean].mean())"
      ],
      "metadata": {
        "id": "EURnhPrk3D3h"
      },
      "execution_count": 93,
      "outputs": []
    },
    {
      "cell_type": "code",
      "source": [
        "#Verificamos\n",
        "detalle2.isnull().sum()"
      ],
      "metadata": {
        "colab": {
          "base_uri": "https://localhost:8080/"
        },
        "id": "BCL-RHdE6smT",
        "outputId": "a8aef593-b13c-4200-a0e0-48e2dca0097a"
      },
      "execution_count": 94,
      "outputs": [
        {
          "output_type": "execute_result",
          "data": {
            "text/plain": [
              "CVE_DOC                      0\n",
              "FECHA_DOC                    3\n",
              "NOMBRE_VENDEDOR              0\n",
              "NOMBRE_CLIENTE               0\n",
              "CANT                         0\n",
              "CVE_ART                      0\n",
              "DESCR                        0\n",
              "PRECIO_UNITARIO              0\n",
              "COSTO_UNITARIO               0\n",
              "COSTO_UNITARIO_CALCULADO     0\n",
              "SUBTOTAL_PARTIDA             0\n",
              "COSTO_TOTAL_CALCULADO        0\n",
              "MARGEN_UNITARIO_CALCULADO    0\n",
              "MARGEN_TOTAL_CALCULADO       0\n",
              "dtype: int64"
            ]
          },
          "metadata": {},
          "execution_count": 94
        }
      ]
    },
    {
      "cell_type": "code",
      "source": [
        "#Verificamos Todo\n",
        "detalle2.isnull().sum().sum()"
      ],
      "metadata": {
        "colab": {
          "base_uri": "https://localhost:8080/"
        },
        "id": "XCSup1fG7cV2",
        "outputId": "0aaa0588-e75b-4491-cfda-f54062a226e2"
      },
      "execution_count": 98,
      "outputs": [
        {
          "output_type": "execute_result",
          "data": {
            "text/plain": [
              "0"
            ]
          },
          "metadata": {},
          "execution_count": 98
        }
      ]
    },
    {
      "cell_type": "markdown",
      "source": [
        "Se pasan los archivos limpios a CSV"
      ],
      "metadata": {
        "id": "ZhceVwOu9zee"
      }
    },
    {
      "cell_type": "code",
      "source": [
        "facturacion2.to_csv(\"Detalles de Facturación Limpio.csv\")\n",
        "detalle2.to_csv(\"Detalle precios y productos fabricados 2022 Limpio.csv\")"
      ],
      "metadata": {
        "id": "fHb6TSaV9xnn"
      },
      "execution_count": 102,
      "outputs": []
    }
  ]
}